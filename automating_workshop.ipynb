{
 "cells": [
  {
   "cell_type": "markdown",
   "metadata": {},
   "source": [
    "# FUNCTIONS"
   ]
  },
  {
   "cell_type": "code",
   "execution_count": 1,
   "metadata": {
    "ExecuteTime": {
     "end_time": "2023-02-07T19:34:18.141016Z",
     "start_time": "2023-02-07T19:34:18.129385Z"
    }
   },
   "outputs": [],
   "source": [
    "def input_csv():\n",
    "    \n",
    "    \"\"\"\n",
    "    HELPER FUNCTION TO: deploy_categorical_target_EDA()\n",
    "    \n",
    "    DOCSTRING: inputs a csv as prompted and displays the first five rows, \n",
    "    and information about each column and it's data type, gives option of \n",
    "    changing columns into 'snake_case' from 'Title Case'. \n",
    "    \n",
    "    Returns: df.  \n",
    "    \"\"\"\n",
    "    \n",
    "    display(\"What CSV file would you like to use? Make sure it's in this repository!\")\n",
    "    file_name = input('Filename: ')\n",
    "    try:\n",
    "        df = pd.read_csv(file_name)\n",
    "        display([f'{x}' for x in df.columns])\n",
    "        \n",
    "        y_n_snake_case = input(\"Would you like to reformat the columns from 'Title Case' to 'snake_case':  y/n \")\n",
    "        if y_n_snake_case.lower() == 'y':\n",
    "    \n",
    "            column_names = [x.lower().translate(str.maketrans('', '', string.punctuation)) \\\n",
    "                                .replace(' ', '_') for x in df]\n",
    "            df.columns = column_names\n",
    "            display('columns reformatted')\n",
    "        else:\n",
    "            pass \n",
    "        display(df.head(), df.info())\n",
    "\n",
    "    except Exception as e_1: \n",
    "        print('ERROR at input_csv()', {e_1})\n",
    "\n",
    "    return df"
   ]
  },
  {
   "cell_type": "code",
   "execution_count": 2,
   "metadata": {
    "ExecuteTime": {
     "end_time": "2023-02-07T19:34:18.150441Z",
     "start_time": "2023-02-07T19:34:18.144067Z"
    }
   },
   "outputs": [],
   "source": [
    "def select_target_and_make_labels(df):    \n",
    "    \n",
    "    \"\"\"\n",
    "    HELPER FUNCTION TO: deploy_categorical_target_EDA()\n",
    "    \n",
    "    DOCSTRING: inputs a 'df' and promps user for target column. \n",
    "    Casts all other features as dependent variables. \n",
    "    \n",
    "    Returns: X (dependent variables in a df), \n",
    "    y (target feature as a series) and \"target_column\" (the name of the target column.) \n",
    "    \n",
    "    Also displays distribution of target variable in a pandas series/barplot, \n",
    "    aggrigated so each row is a variation of the target. \n",
    "    \"\"\"\n",
    "    try: \n",
    "        target_column = input('Target column: ')\n",
    "        y = df[f'{target_column}']\n",
    "        X = df.drop(columns = target_column)\n",
    "        display(df[target_column].value_counts().to_frame().style.bar())\n",
    "\n",
    "        return X, y, target_column\n",
    "\n",
    "    except Exception as e_2: \n",
    "        print('ERROR at select_target_and_make_labels', {e_2})"
   ]
  },
  {
   "cell_type": "code",
   "execution_count": 3,
   "metadata": {
    "ExecuteTime": {
     "end_time": "2023-02-07T19:34:18.159074Z",
     "start_time": "2023-02-07T19:34:18.154254Z"
    }
   },
   "outputs": [],
   "source": [
    "def select_cat_cols(X):\n",
    "    \n",
    "    \"\"\"\n",
    "    HELPER FUNCTION TO: deploy_categorical_target_EDA()\n",
    "    \n",
    "    DOCSTRING: \n",
    "    inputs 'X' (dependent variables in a df) and prompts user to \n",
    "    select which of the categorical dependent variables to keep in analysis.\n",
    "    \n",
    "    Assumes these variables are already cast as strings.\n",
    "    \n",
    "    Displays the distribution of each categorical features as a pandas series/barplot,\n",
    "    aggrigated so each row is a variation of each categorical feature. Does not \n",
    "    return anything.\n",
    "    \"\"\"\n",
    "    \n",
    "    try:\n",
    "        cat_cols = input('Categorical dependent features: ').split()\n",
    "        cat_df = X[cat_cols]\n",
    "        for x in cat_df.columns:\n",
    "            display(x, cat_df[x].value_counts().to_frame().style.bar())\n",
    "            \n",
    "    except Exception as e_3: \n",
    "        print('ERROR at select_cat_cols', {e_3})        \n",
    "    return cat_cols"
   ]
  },
  {
   "cell_type": "code",
   "execution_count": 4,
   "metadata": {
    "ExecuteTime": {
     "end_time": "2023-02-07T19:34:18.167620Z",
     "start_time": "2023-02-07T19:34:18.163183Z"
    }
   },
   "outputs": [],
   "source": [
    "def select_numeric_cols(X):\n",
    "    \n",
    "    \"\"\"\n",
    "    HELPER FUNCTION TO: deploy_categorical_target_EDA()\n",
    "    \n",
    "    DOCSTRING: inputs 'X' (dependent variables in a df) and promps user to \n",
    "    select which of the numeric dependent variables to keep in analysis. \n",
    "    \n",
    "    Converts these variables to numeric using pd.to_numeric(). \n",
    "    \n",
    "    Returns a list of these as 'num_columns'\n",
    "    \"\"\"\n",
    "    \n",
    "    try: \n",
    "        \n",
    "        num_columns = input('Numeric dependant features: ').split()\n",
    "        for x in (num_columns):\n",
    "            X[x] = pd.to_numeric(X[x])\n",
    "        display('converted')\n",
    "\n",
    "    except Exception as e_6:\n",
    "            print('ERROR at select_numeric_cols', {e_6})\n",
    "            \n",
    "    return num_columns"
   ]
  },
  {
   "cell_type": "code",
   "execution_count": 5,
   "metadata": {
    "ExecuteTime": {
     "end_time": "2023-02-07T19:34:18.173698Z",
     "start_time": "2023-02-07T19:34:18.169677Z"
    }
   },
   "outputs": [],
   "source": [
    "def histogram_jam(X, num_cols, labels_dict):\n",
    "    \n",
    "    \"\"\"\n",
    "    HELPER FUNCTION TO: output_viz(X, y, num_cols, target_column)\n",
    "    \n",
    "    DOCSTRING: inputs X (dependent variables as a df), 'num_cols', (list of \n",
    "    numeric columns), and labels_dict (dictionary of labels for vizualization,\n",
    "    provided by output_viz.)\n",
    "    \n",
    "    Displays histogram of each numeric feature saved in \"num_cols\", \n",
    "    with proper labels on plots. \n",
    "    \n",
    "    Returns nothing.\n",
    "    \"\"\"\n",
    "    try: \n",
    "        ### itterate to make all the histograms \n",
    "        for col in X[num_cols]:\n",
    "            fig, ax = plt.subplots()\n",
    "            distributions = sns.histplot(data = X, x = col)\n",
    "            distributions.set_title(f'{labels_dict[col]} Distributions in the Data')\n",
    "            distributions.set_xlabel(f'{labels_dict[col]}')\n",
    "            plt.xticks(rotation = 45);\n",
    "    except Exception as e_7:\n",
    "           print('ERROR at histogram_jam', {e_7})\n",
    "        "
   ]
  },
  {
   "cell_type": "code",
   "execution_count": 6,
   "metadata": {
    "ExecuteTime": {
     "end_time": "2023-02-07T19:34:18.177989Z",
     "start_time": "2023-02-07T19:34:18.174912Z"
    }
   },
   "outputs": [],
   "source": [
    "def pivot_table_mean(X, num_cols, y, target_column):\n",
    "    \n",
    "    \"\"\"\n",
    "    HELPER FUNCTION TO: output_viz(X, y, num_cols, target_column)\n",
    "    \n",
    "    DOCSTRING: inputs X (dependent variables as a df), 'num_cols' (a list of \n",
    "    numeric columns), y (a series of the target variable), and 'target_column',\n",
    "    (the name of the target). \n",
    "    \n",
    "    Displays a pivot table of all numeric feature's mean, grouped by the variations\n",
    "    (categorical outcomes) in the target. \n",
    "    \n",
    "    Returns: pivot_table\n",
    "    \"\"\"\n",
    "    \n",
    "    try: \n",
    "        # aggregating the df to group by target category\n",
    "        num_cols_df = pd.concat([X[num_cols], y], axis = 1)\n",
    "        pivot_table = num_cols_df.groupby(by = num_cols_df[target_column]).mean()\n",
    "        display(pivot_table)\n",
    "\n",
    "        return pivot_table\n",
    "\n",
    "    except Exception as e_8:\n",
    "        print ('ERROR at pivot_table_mean', {e_8})\n",
    "        "
   ]
  },
  {
   "cell_type": "code",
   "execution_count": 7,
   "metadata": {
    "ExecuteTime": {
     "end_time": "2023-02-07T19:34:18.184767Z",
     "start_time": "2023-02-07T19:34:18.179369Z"
    }
   },
   "outputs": [],
   "source": [
    "def viz_numeric_vars_to_target(pivot_table, labels_dict, target_column):\n",
    "    \n",
    "    \"\"\"\n",
    "    HELPER FUNCTION TO: output_viz(X, y, num_cols, target_column)\n",
    "    \n",
    "    DOCSTRING: inputs 'pivot_table' (output from pivot_table_mean, a pivot table\n",
    "    of the numeric features means as distributed by the categorical outcomes of \n",
    "    the target,) 'labels_dict' (a dictionary of labels for plotting), and \n",
    "    'target_column'(the name of the target column.)\n",
    "    \n",
    "    Displays a barplot for each numeric feature, with each categorical target outcome\n",
    "    as a bar on the X axis. \n",
    "    \"\"\"\n",
    "    \n",
    "    try: \n",
    "\n",
    "        # itterate to show relationships between the target and numeric dependant variables\n",
    "\n",
    "        for index, col in enumerate(pivot_table.columns,start=1):\n",
    "            fig, ax = plt.subplots()\n",
    "            figure = sns.barplot(data = pivot_table,\n",
    "                                 x = pivot_table.index,\n",
    "                                 y = pivot_table[col])\n",
    "\n",
    "            figure.set_title(f\"{labels_dict[col]} Averaged by Class\")\n",
    "            figure.set_ylabel(f\"{labels_dict[col]}\")\n",
    "            figure.set_xlabel(target_column.replace(\"_\", \" \").title())\n",
    "            plt.xticks(rotation = 45);\n",
    "        \n",
    "    except Exception as e_9:\n",
    "        print('ERROR at viz_numeric_vars_to_target', {e_9})"
   ]
  },
  {
   "cell_type": "code",
   "execution_count": 8,
   "metadata": {
    "ExecuteTime": {
     "end_time": "2023-02-07T19:34:18.190944Z",
     "start_time": "2023-02-07T19:34:18.187322Z"
    }
   },
   "outputs": [],
   "source": [
    "def output_viz(X, y, num_cols, target_column):\n",
    "    \n",
    "    \"\"\"\n",
    "    HELPER FUNCTION TO: deploy_categorical_target_EDA()\n",
    "    \n",
    "    DEPLOY FUNCTION OF: histogram_jam, pivot_table_mean, and viz_vars_to_target\n",
    "    \n",
    "    DOCSTRING: 'X' (dependent variables in a df), 'y' (target feature), 'num_cols'\n",
    "    (a list of the numerical dependent features), and 'target_column' as the name\n",
    "    of the target feature. \n",
    "    \n",
    "    Makes: 'labels_dict' for these visualizations\n",
    "    \n",
    "    Displays: histograms, pivot_table and accompanying barplots\n",
    "    \n",
    "    Returns nothing.\n",
    "    \"\"\"\n",
    "    try: \n",
    "        # making labels for our plots \n",
    "        basic_labels = X.columns\n",
    "        title_labels = [x.replace(\"_\", \" \").title() for x in basic_labels]\n",
    "        labels_dict  = { basic_label:title_label for (basic_label,title_label) in zip(basic_labels, title_labels)} \n",
    "\n",
    "        histogram_jam(X, num_cols, labels_dict)\n",
    "        pivot_table = pivot_table_mean(X, num_cols, y, target_column)\n",
    "        viz_numeric_vars_to_target(pivot_table, labels_dict, target_column)\n",
    "        \n",
    "    except Exception as e_10:\n",
    "        print('ERROR at output_viz', {e_10})"
   ]
  },
  {
   "cell_type": "markdown",
   "metadata": {},
   "source": [
    "# DEPLOY"
   ]
  },
  {
   "cell_type": "code",
   "execution_count": 9,
   "metadata": {
    "ExecuteTime": {
     "end_time": "2023-02-07T19:34:18.829946Z",
     "start_time": "2023-02-07T19:34:18.192523Z"
    }
   },
   "outputs": [],
   "source": [
    "import pandas as pd\n",
    "import matplotlib.pyplot as plt\n",
    "import seaborn as sns\n",
    "import string"
   ]
  },
  {
   "cell_type": "code",
   "execution_count": 10,
   "metadata": {
    "ExecuteTime": {
     "end_time": "2023-02-07T19:34:18.833228Z",
     "start_time": "2023-02-07T19:34:18.830888Z"
    }
   },
   "outputs": [],
   "source": [
    "def deploy_categorical_target_EDA():\n",
    "    \n",
    "    \"\"\"\n",
    "    DEPLOY FUNCTION OF: select_target_and_make_labels, select_numeric_cols, \n",
    "    select_cat_cols, other_output\n",
    "    \n",
    "    DOCSTRING: \n",
    "    \n",
    "    The purpose of this functional protocol is to DEPLOY a semi-automated\n",
    "    set of tables and visualizations to quickly get a first look at the data, \n",
    "    and become acquainted with the target and dependent variables.\n",
    "\n",
    "    It's not designed to do any cleaning at the moment.\n",
    "\n",
    "    It expects a categorical target, and dependent features to be either \n",
    "    categorical or numeric. It inputs a CSV.\n",
    "\n",
    "    It outputs:\n",
    "    1) the target variable distribution, and distribution of all \n",
    "    other categorical features\n",
    "    2) pivot table with the target as the index and the mean of each numeric feature\n",
    "    3) histograms of each numeric feature's distribution\n",
    "    4) barplot of the mean of each numeric column's mean on the x axis by each target category\n",
    "\n",
    "    Each function has it's own docstring.\n",
    "    \n",
    "    WARNINGS: Not for use if selecting more than 10 or 12 numeric features at\n",
    "    a time, or the barplots are going to be rendered useless. Not for producing \n",
    "    deliverables to clients, just for EDA purposes. \n",
    "    \"\"\"\n",
    "    \n",
    "    try:\n",
    "        df = input_csv()\n",
    "        X, y, target_column = select_target_and_make_labels(df)\n",
    "        num_cols = select_numeric_cols(X)\n",
    "        cat_cols = select_cat_cols(X)\n",
    "        output_viz(X, y, num_cols, target_column)\n",
    "\n",
    "    except Exception as deploy_exception:\n",
    "        print({deploy_exception})"
   ]
  },
  {
   "cell_type": "code",
   "execution_count": null,
   "metadata": {
    "ExecuteTime": {
     "end_time": "2023-02-07T21:31:17.196944Z",
     "start_time": "2023-02-07T19:34:18.138Z"
    },
    "scrolled": false
   },
   "outputs": [],
   "source": [
    "deploy_categorical_target_EDA()"
   ]
  }
 ],
 "metadata": {
  "kernelspec": {
   "display_name": "Python (learn-env)",
   "language": "python",
   "name": "learn-env"
  },
  "language_info": {
   "codemirror_mode": {
    "name": "ipython",
    "version": 3
   },
   "file_extension": ".py",
   "mimetype": "text/x-python",
   "name": "python",
   "nbconvert_exporter": "python",
   "pygments_lexer": "ipython3",
   "version": "3.8.5"
  },
  "toc": {
   "base_numbering": 1,
   "nav_menu": {},
   "number_sections": true,
   "sideBar": true,
   "skip_h1_title": false,
   "title_cell": "Table of Contents",
   "title_sidebar": "Contents",
   "toc_cell": false,
   "toc_position": {},
   "toc_section_display": true,
   "toc_window_display": false
  }
 },
 "nbformat": 4,
 "nbformat_minor": 4
}
